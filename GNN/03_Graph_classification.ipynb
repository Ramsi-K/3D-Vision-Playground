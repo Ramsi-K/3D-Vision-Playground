{
  "nbformat": 4,
  "nbformat_minor": 0,
  "metadata": {
    "colab": {
      "provenance": [],
      "authorship_tag": "ABX9TyNhiHdGi/BAzwuLesPG+f6/",
      "include_colab_link": true
    },
    "kernelspec": {
      "name": "python3",
      "display_name": "Python 3"
    },
    "language_info": {
      "name": "python"
    }
  },
  "cells": [
    {
      "cell_type": "markdown",
      "metadata": {
        "id": "view-in-github",
        "colab_type": "text"
      },
      "source": [
        "<a href=\"https://colab.research.google.com/github/Ramsi-K/3D-Vision-Playground/blob/main/GNN/03_Graph_classification.ipynb\" target=\"_parent\"><img src=\"https://colab.research.google.com/assets/colab-badge.svg\" alt=\"Open In Colab\"/></a>"
      ]
    },
    {
      "cell_type": "markdown",
      "source": [
        "# Imports"
      ],
      "metadata": {
        "id": "G1CbnLKpR9nW"
      }
    },
    {
      "cell_type": "code",
      "execution_count": 1,
      "metadata": {
        "colab": {
          "base_uri": "https://localhost:8080/"
        },
        "id": "pHNvzxLZR3IX",
        "outputId": "8c48c6a8-2bf6-438c-bf53-5351572df44f"
      },
      "outputs": [
        {
          "output_type": "stream",
          "name": "stdout",
          "text": [
            "2.2.1+cu121\n",
            "\u001b[2K     \u001b[90m━━━━━━━━━━━━━━━━━━━━━━━━━━━━━━━━━━━━━━━━\u001b[0m \u001b[32m10.9/10.9 MB\u001b[0m \u001b[31m58.2 MB/s\u001b[0m eta \u001b[36m0:00:00\u001b[0m\n",
            "\u001b[2K     \u001b[90m━━━━━━━━━━━━━━━━━━━━━━━━━━━━━━━━━━━━━━━━\u001b[0m \u001b[32m5.0/5.0 MB\u001b[0m \u001b[31m55.8 MB/s\u001b[0m eta \u001b[36m0:00:00\u001b[0m\n",
            "\u001b[?25h  Installing build dependencies ... \u001b[?25l\u001b[?25hdone\n",
            "  Getting requirements to build wheel ... \u001b[?25l\u001b[?25hdone\n",
            "  Preparing metadata (pyproject.toml) ... \u001b[?25l\u001b[?25hdone\n",
            "  Building wheel for torch_geometric (pyproject.toml) ... \u001b[?25l\u001b[?25hdone\n"
          ]
        }
      ],
      "source": [
        "# Install required packages.\n",
        "import os\n",
        "import torch\n",
        "os.environ['TORCH'] = torch.__version__\n",
        "print(torch.__version__)\n",
        "\n",
        "!pip install -q torch-scatter -f https://data.pyg.org/whl/torch-${TORCH}.html\n",
        "!pip install -q torch-sparse -f https://data.pyg.org/whl/torch-${TORCH}.html\n",
        "!pip install -q git+https://github.com/pyg-team/pytorch_geometric.git"
      ]
    },
    {
      "cell_type": "markdown",
      "source": [
        "# Dataset\n",
        "\n",
        "From TU Datasets Small Molecules : MUTANG"
      ],
      "metadata": {
        "id": "bzceZI4rSIZi"
      }
    },
    {
      "cell_type": "code",
      "source": [
        "import torch\n",
        "from torch_geometric.datasets import TUDataset\n",
        "\n",
        "dataset = TUDataset(root='data/TUDataset', name='MUTAG')\n",
        "\n",
        "print()\n",
        "print(f'Dataset: {dataset}:')\n",
        "print('====================')\n",
        "print(f'Number of graphs: {len(dataset)}')\n",
        "print(f'Number of features: {dataset.num_features}')\n",
        "print(f'Number of classes: {dataset.num_classes}')\n",
        "\n",
        "data = dataset[0]  # Get the first graph object.\n",
        "\n",
        "print()\n",
        "print(data)\n",
        "print('=============================================================')\n",
        "\n",
        "# Gather some statistics about the first graph.\n",
        "print(f'Number of nodes: {data.num_nodes}')\n",
        "print(f'Number of edges: {data.num_edges}')\n",
        "print(f'Average node degree: {data.num_edges / data.num_nodes:.2f}')\n",
        "print(f'Has isolated nodes: {data.has_isolated_nodes()}')\n",
        "print(f'Has self-loops: {data.has_self_loops()}')\n",
        "print(f'Is undirected: {data.is_undirected()}')"
      ],
      "metadata": {
        "colab": {
          "base_uri": "https://localhost:8080/"
        },
        "id": "0cEuPywyR_BY",
        "outputId": "1f66a31f-1225-4d9c-b1fd-4e0372324f63"
      },
      "execution_count": 2,
      "outputs": [
        {
          "output_type": "stream",
          "name": "stderr",
          "text": [
            "Downloading https://www.chrsmrrs.com/graphkerneldatasets/MUTAG.zip\n",
            "Processing...\n"
          ]
        },
        {
          "output_type": "stream",
          "name": "stdout",
          "text": [
            "\n",
            "Dataset: MUTAG(188):\n",
            "====================\n",
            "Number of graphs: 188\n",
            "Number of features: 7\n",
            "Number of classes: 2\n",
            "\n",
            "Data(edge_index=[2, 38], x=[17, 7], edge_attr=[38, 4], y=[1])\n",
            "=============================================================\n",
            "Number of nodes: 17\n",
            "Number of edges: 38\n",
            "Average node degree: 2.24\n",
            "Has isolated nodes: False\n",
            "Has self-loops: False\n",
            "Is undirected: True\n"
          ]
        },
        {
          "output_type": "stream",
          "name": "stderr",
          "text": [
            "Done!\n"
          ]
        }
      ]
    },
    {
      "cell_type": "code",
      "source": [
        "torch.manual_seed(12345)\n",
        "dataset = dataset.shuffle()\n",
        "\n",
        "train_dataset = dataset[:150]\n",
        "test_dataset = dataset[150:]\n",
        "\n",
        "print(f'Number of training graphs: {len(train_dataset)}')\n",
        "print(f'Number of test graphs: {len(test_dataset)}')"
      ],
      "metadata": {
        "colab": {
          "base_uri": "https://localhost:8080/"
        },
        "id": "f-HfoaSNS1KW",
        "outputId": "a547b1f9-8064-434d-87dc-600c6b1db6fa"
      },
      "execution_count": 3,
      "outputs": [
        {
          "output_type": "stream",
          "name": "stdout",
          "text": [
            "Number of training graphs: 150\n",
            "Number of test graphs: 38\n"
          ]
        }
      ]
    },
    {
      "cell_type": "code",
      "source": [
        "from torch_geometric.loader import DataLoader\n",
        "\n",
        "\n",
        "# Batching and sparse adjacency matrix\n",
        "train_loader = DataLoader(train_dataset, batch_size=64, shuffle=True)\n",
        "test_loader = DataLoader(test_dataset, batch_size=64, shuffle=False)\n",
        "\n",
        "for step, data in enumerate(train_loader):\n",
        "    print(f'Step {step + 1}:')\n",
        "    print('=======')\n",
        "    print(f'Number of graphs in the current batch: {data.num_graphs}')\n",
        "    print(data)\n",
        "    print()"
      ],
      "metadata": {
        "colab": {
          "base_uri": "https://localhost:8080/"
        },
        "id": "PszRRyO8S8PO",
        "outputId": "389e97ec-e094-49e4-f3d6-48261d2a541a"
      },
      "execution_count": 4,
      "outputs": [
        {
          "output_type": "stream",
          "name": "stdout",
          "text": [
            "Step 1:\n",
            "=======\n",
            "Number of graphs in the current batch: 64\n",
            "DataBatch(edge_index=[2, 2636], x=[1188, 7], edge_attr=[2636, 4], y=[64], batch=[1188], ptr=[65])\n",
            "\n",
            "Step 2:\n",
            "=======\n",
            "Number of graphs in the current batch: 64\n",
            "DataBatch(edge_index=[2, 2506], x=[1139, 7], edge_attr=[2506, 4], y=[64], batch=[1139], ptr=[65])\n",
            "\n",
            "Step 3:\n",
            "=======\n",
            "Number of graphs in the current batch: 22\n",
            "DataBatch(edge_index=[2, 852], x=[387, 7], edge_attr=[852, 4], y=[22], batch=[387], ptr=[23])\n",
            "\n"
          ]
        }
      ]
    },
    {
      "cell_type": "markdown",
      "source": [
        "Training a GNN for graph classification recipe:\n",
        "\n",
        "1. Embed each node by performing multiple rounds of message passing\n",
        "2. Aggregate node embeddings into a unified graph embedding (**readout layer**)\n",
        "3. Train a final classifier on the graph embedding"
      ],
      "metadata": {
        "id": "zzIHwAdOTd91"
      }
    },
    {
      "cell_type": "markdown",
      "source": [
        "# Model 1: GCNConv"
      ],
      "metadata": {
        "id": "UVCT5miFUOEc"
      }
    },
    {
      "cell_type": "code",
      "source": [
        "from torch.nn import Linear\n",
        "import torch.nn.functional as F\n",
        "from torch_geometric.nn import GCNConv\n",
        "from torch_geometric.nn import global_mean_pool\n",
        "\n",
        "\n",
        "class GCN(torch.nn.Module):\n",
        "    def __init__(self, hidden_channels):\n",
        "        super(GCN, self).__init__()\n",
        "        torch.manual_seed(12345)\n",
        "        self.conv1 = GCNConv(dataset.num_node_features, hidden_channels)\n",
        "        self.conv2 = GCNConv(hidden_channels, hidden_channels)\n",
        "        self.conv3 = GCNConv(hidden_channels, hidden_channels)\n",
        "        self.lin = Linear(hidden_channels, dataset.num_classes)\n",
        "\n",
        "    def forward(self, x, edge_index, batch):\n",
        "        # 1. Obtain node embeddings\n",
        "        x = self.conv1(x, edge_index)\n",
        "        x = x.relu()\n",
        "        x = self.conv2(x, edge_index)\n",
        "        x = x.relu()\n",
        "        x = self.conv3(x, edge_index)\n",
        "\n",
        "        # 2. Readout layer\n",
        "        x = global_mean_pool(x, batch)  # [batch_size, hidden_channels]\n",
        "\n",
        "        # 3. Apply a final classifier\n",
        "        x = F.dropout(x, p=0.5, training=self.training)\n",
        "        x = self.lin(x)\n",
        "\n",
        "        return x\n",
        "\n",
        "model = GCN(hidden_channels=64)\n",
        "print(model)"
      ],
      "metadata": {
        "colab": {
          "base_uri": "https://localhost:8080/"
        },
        "id": "eXLP-XdQTQCn",
        "outputId": "e92434e5-fd91-45af-e969-c83b82a073be"
      },
      "execution_count": 5,
      "outputs": [
        {
          "output_type": "stream",
          "name": "stdout",
          "text": [
            "GCN(\n",
            "  (conv1): GCNConv(7, 64)\n",
            "  (conv2): GCNConv(64, 64)\n",
            "  (conv3): GCNConv(64, 64)\n",
            "  (lin): Linear(in_features=64, out_features=2, bias=True)\n",
            ")\n"
          ]
        }
      ]
    },
    {
      "cell_type": "code",
      "source": [
        "from IPython.display import Javascript\n",
        "display(Javascript('''google.colab.output.setIframeHeight(0, true, {maxHeight: 300})'''))\n",
        "\n",
        "model = GCN(hidden_channels=64)\n",
        "optimizer = torch.optim.Adam(model.parameters(), lr=0.01)\n",
        "criterion = torch.nn.CrossEntropyLoss()\n",
        "\n",
        "def train():\n",
        "    model.train()\n",
        "\n",
        "    for data in train_loader:  # Iterate in batches over the training dataset.\n",
        "         out = model(data.x, data.edge_index, data.batch)  # Perform a single forward pass.\n",
        "         loss = criterion(out, data.y)  # Compute the loss.\n",
        "         loss.backward()  # Derive gradients.\n",
        "         optimizer.step()  # Update parameters based on gradients.\n",
        "         optimizer.zero_grad()  # Clear gradients.\n",
        "\n",
        "def test(loader):\n",
        "     model.eval()\n",
        "\n",
        "     correct = 0\n",
        "     for data in loader:  # Iterate in batches over the training/test dataset.\n",
        "         out = model(data.x, data.edge_index, data.batch)\n",
        "         pred = out.argmax(dim=1)  # Use the class with highest probability.\n",
        "         correct += int((pred == data.y).sum())  # Check against ground-truth labels.\n",
        "     return correct / len(loader.dataset)  # Derive ratio of correct predictions.\n",
        "\n",
        "\n",
        "for epoch in range(1, 171):\n",
        "    train()\n",
        "    train_acc = test(train_loader)\n",
        "    test_acc = test(test_loader)\n",
        "    print(f'Epoch: {epoch:03d}, Train Acc: {train_acc:.4f}, Test Acc: {test_acc:.4f}')"
      ],
      "metadata": {
        "colab": {
          "base_uri": "https://localhost:8080/",
          "height": 300
        },
        "id": "knJKNjXnTzzW",
        "outputId": "5b4e93b0-5891-4a23-d90a-155de8e8dd41"
      },
      "execution_count": 6,
      "outputs": [
        {
          "output_type": "display_data",
          "data": {
            "text/plain": [
              "<IPython.core.display.Javascript object>"
            ],
            "application/javascript": [
              "google.colab.output.setIframeHeight(0, true, {maxHeight: 300})"
            ]
          },
          "metadata": {}
        },
        {
          "output_type": "stream",
          "name": "stdout",
          "text": [
            "Epoch: 001, Train Acc: 0.6467, Test Acc: 0.7368\n",
            "Epoch: 002, Train Acc: 0.6467, Test Acc: 0.7368\n",
            "Epoch: 003, Train Acc: 0.6467, Test Acc: 0.7368\n",
            "Epoch: 004, Train Acc: 0.6467, Test Acc: 0.7368\n",
            "Epoch: 005, Train Acc: 0.6467, Test Acc: 0.7368\n",
            "Epoch: 006, Train Acc: 0.6533, Test Acc: 0.7368\n",
            "Epoch: 007, Train Acc: 0.7467, Test Acc: 0.7632\n",
            "Epoch: 008, Train Acc: 0.7267, Test Acc: 0.7632\n",
            "Epoch: 009, Train Acc: 0.7200, Test Acc: 0.7632\n",
            "Epoch: 010, Train Acc: 0.7133, Test Acc: 0.7895\n",
            "Epoch: 011, Train Acc: 0.7200, Test Acc: 0.7632\n",
            "Epoch: 012, Train Acc: 0.7200, Test Acc: 0.7895\n",
            "Epoch: 013, Train Acc: 0.7200, Test Acc: 0.7895\n",
            "Epoch: 014, Train Acc: 0.7133, Test Acc: 0.8421\n",
            "Epoch: 015, Train Acc: 0.7133, Test Acc: 0.8421\n",
            "Epoch: 016, Train Acc: 0.7533, Test Acc: 0.7368\n",
            "Epoch: 017, Train Acc: 0.7400, Test Acc: 0.7632\n",
            "Epoch: 018, Train Acc: 0.7133, Test Acc: 0.8421\n",
            "Epoch: 019, Train Acc: 0.7400, Test Acc: 0.7895\n",
            "Epoch: 020, Train Acc: 0.7533, Test Acc: 0.7368\n",
            "Epoch: 021, Train Acc: 0.7467, Test Acc: 0.7895\n",
            "Epoch: 022, Train Acc: 0.7467, Test Acc: 0.7895\n",
            "Epoch: 023, Train Acc: 0.7533, Test Acc: 0.7895\n",
            "Epoch: 024, Train Acc: 0.7267, Test Acc: 0.8421\n",
            "Epoch: 025, Train Acc: 0.7533, Test Acc: 0.7632\n",
            "Epoch: 026, Train Acc: 0.7533, Test Acc: 0.7632\n",
            "Epoch: 027, Train Acc: 0.7600, Test Acc: 0.8158\n",
            "Epoch: 028, Train Acc: 0.7533, Test Acc: 0.8421\n",
            "Epoch: 029, Train Acc: 0.7600, Test Acc: 0.7632\n",
            "Epoch: 030, Train Acc: 0.7600, Test Acc: 0.8158\n",
            "Epoch: 031, Train Acc: 0.7600, Test Acc: 0.8158\n",
            "Epoch: 032, Train Acc: 0.7600, Test Acc: 0.7632\n",
            "Epoch: 033, Train Acc: 0.7667, Test Acc: 0.7632\n",
            "Epoch: 034, Train Acc: 0.7667, Test Acc: 0.7895\n",
            "Epoch: 035, Train Acc: 0.7667, Test Acc: 0.7895\n",
            "Epoch: 036, Train Acc: 0.7667, Test Acc: 0.7632\n",
            "Epoch: 037, Train Acc: 0.7400, Test Acc: 0.7632\n",
            "Epoch: 038, Train Acc: 0.7667, Test Acc: 0.8158\n",
            "Epoch: 039, Train Acc: 0.7667, Test Acc: 0.7895\n",
            "Epoch: 040, Train Acc: 0.7533, Test Acc: 0.7368\n",
            "Epoch: 041, Train Acc: 0.7467, Test Acc: 0.7368\n",
            "Epoch: 042, Train Acc: 0.7667, Test Acc: 0.7895\n",
            "Epoch: 043, Train Acc: 0.7667, Test Acc: 0.8158\n",
            "Epoch: 044, Train Acc: 0.7533, Test Acc: 0.7632\n",
            "Epoch: 045, Train Acc: 0.7600, Test Acc: 0.7632\n",
            "Epoch: 046, Train Acc: 0.7600, Test Acc: 0.7632\n",
            "Epoch: 047, Train Acc: 0.7667, Test Acc: 0.8158\n",
            "Epoch: 048, Train Acc: 0.7600, Test Acc: 0.7632\n",
            "Epoch: 049, Train Acc: 0.7667, Test Acc: 0.7632\n",
            "Epoch: 050, Train Acc: 0.7667, Test Acc: 0.8158\n",
            "Epoch: 051, Train Acc: 0.7733, Test Acc: 0.7895\n",
            "Epoch: 052, Train Acc: 0.7733, Test Acc: 0.8158\n",
            "Epoch: 053, Train Acc: 0.7667, Test Acc: 0.7632\n",
            "Epoch: 054, Train Acc: 0.7667, Test Acc: 0.7632\n",
            "Epoch: 055, Train Acc: 0.7800, Test Acc: 0.7895\n",
            "Epoch: 056, Train Acc: 0.7667, Test Acc: 0.7632\n",
            "Epoch: 057, Train Acc: 0.7533, Test Acc: 0.7632\n",
            "Epoch: 058, Train Acc: 0.7733, Test Acc: 0.7895\n",
            "Epoch: 059, Train Acc: 0.7800, Test Acc: 0.7632\n",
            "Epoch: 060, Train Acc: 0.7733, Test Acc: 0.8158\n",
            "Epoch: 061, Train Acc: 0.7667, Test Acc: 0.7632\n",
            "Epoch: 062, Train Acc: 0.7733, Test Acc: 0.8158\n",
            "Epoch: 063, Train Acc: 0.7733, Test Acc: 0.8158\n",
            "Epoch: 064, Train Acc: 0.7733, Test Acc: 0.8158\n",
            "Epoch: 065, Train Acc: 0.7733, Test Acc: 0.8158\n",
            "Epoch: 066, Train Acc: 0.7733, Test Acc: 0.7895\n",
            "Epoch: 067, Train Acc: 0.7733, Test Acc: 0.7895\n",
            "Epoch: 068, Train Acc: 0.7667, Test Acc: 0.7895\n",
            "Epoch: 069, Train Acc: 0.7733, Test Acc: 0.8158\n",
            "Epoch: 070, Train Acc: 0.7667, Test Acc: 0.7895\n",
            "Epoch: 071, Train Acc: 0.7733, Test Acc: 0.7895\n",
            "Epoch: 072, Train Acc: 0.7800, Test Acc: 0.7895\n",
            "Epoch: 073, Train Acc: 0.7733, Test Acc: 0.8158\n",
            "Epoch: 074, Train Acc: 0.7733, Test Acc: 0.8158\n",
            "Epoch: 075, Train Acc: 0.7667, Test Acc: 0.7632\n",
            "Epoch: 076, Train Acc: 0.7800, Test Acc: 0.7895\n",
            "Epoch: 077, Train Acc: 0.7800, Test Acc: 0.7895\n",
            "Epoch: 078, Train Acc: 0.7733, Test Acc: 0.8421\n",
            "Epoch: 079, Train Acc: 0.7667, Test Acc: 0.8158\n",
            "Epoch: 080, Train Acc: 0.7800, Test Acc: 0.7895\n",
            "Epoch: 081, Train Acc: 0.7667, Test Acc: 0.7895\n",
            "Epoch: 082, Train Acc: 0.7600, Test Acc: 0.7632\n",
            "Epoch: 083, Train Acc: 0.7800, Test Acc: 0.7895\n",
            "Epoch: 084, Train Acc: 0.7733, Test Acc: 0.7895\n",
            "Epoch: 085, Train Acc: 0.7667, Test Acc: 0.7895\n",
            "Epoch: 086, Train Acc: 0.7800, Test Acc: 0.8158\n",
            "Epoch: 087, Train Acc: 0.7667, Test Acc: 0.7895\n",
            "Epoch: 088, Train Acc: 0.7800, Test Acc: 0.7895\n",
            "Epoch: 089, Train Acc: 0.7667, Test Acc: 0.7895\n",
            "Epoch: 090, Train Acc: 0.7800, Test Acc: 0.7895\n",
            "Epoch: 091, Train Acc: 0.7800, Test Acc: 0.7895\n",
            "Epoch: 092, Train Acc: 0.7800, Test Acc: 0.8158\n",
            "Epoch: 093, Train Acc: 0.7800, Test Acc: 0.7895\n",
            "Epoch: 094, Train Acc: 0.7733, Test Acc: 0.7895\n",
            "Epoch: 095, Train Acc: 0.7800, Test Acc: 0.7895\n",
            "Epoch: 096, Train Acc: 0.7600, Test Acc: 0.7895\n",
            "Epoch: 097, Train Acc: 0.7733, Test Acc: 0.7895\n",
            "Epoch: 098, Train Acc: 0.7733, Test Acc: 0.8158\n",
            "Epoch: 099, Train Acc: 0.7733, Test Acc: 0.7895\n",
            "Epoch: 100, Train Acc: 0.7733, Test Acc: 0.7895\n",
            "Epoch: 101, Train Acc: 0.7667, Test Acc: 0.7895\n",
            "Epoch: 102, Train Acc: 0.7667, Test Acc: 0.7895\n",
            "Epoch: 103, Train Acc: 0.7733, Test Acc: 0.7895\n",
            "Epoch: 104, Train Acc: 0.7600, Test Acc: 0.7632\n",
            "Epoch: 105, Train Acc: 0.7733, Test Acc: 0.7368\n",
            "Epoch: 106, Train Acc: 0.7600, Test Acc: 0.7632\n",
            "Epoch: 107, Train Acc: 0.7733, Test Acc: 0.7105\n",
            "Epoch: 108, Train Acc: 0.8000, Test Acc: 0.7632\n",
            "Epoch: 109, Train Acc: 0.7800, Test Acc: 0.7895\n",
            "Epoch: 110, Train Acc: 0.7733, Test Acc: 0.7632\n",
            "Epoch: 111, Train Acc: 0.7733, Test Acc: 0.7895\n",
            "Epoch: 112, Train Acc: 0.7733, Test Acc: 0.7895\n",
            "Epoch: 113, Train Acc: 0.7667, Test Acc: 0.7895\n",
            "Epoch: 114, Train Acc: 0.7733, Test Acc: 0.7895\n",
            "Epoch: 115, Train Acc: 0.7667, Test Acc: 0.7895\n",
            "Epoch: 116, Train Acc: 0.7733, Test Acc: 0.7632\n",
            "Epoch: 117, Train Acc: 0.7733, Test Acc: 0.7895\n",
            "Epoch: 118, Train Acc: 0.7733, Test Acc: 0.7632\n",
            "Epoch: 119, Train Acc: 0.7667, Test Acc: 0.7632\n",
            "Epoch: 120, Train Acc: 0.8000, Test Acc: 0.7105\n",
            "Epoch: 121, Train Acc: 0.7600, Test Acc: 0.7632\n",
            "Epoch: 122, Train Acc: 0.7667, Test Acc: 0.7105\n",
            "Epoch: 123, Train Acc: 0.7667, Test Acc: 0.7632\n",
            "Epoch: 124, Train Acc: 0.7667, Test Acc: 0.7632\n",
            "Epoch: 125, Train Acc: 0.7667, Test Acc: 0.7632\n",
            "Epoch: 126, Train Acc: 0.7733, Test Acc: 0.7368\n",
            "Epoch: 127, Train Acc: 0.7733, Test Acc: 0.7632\n",
            "Epoch: 128, Train Acc: 0.7733, Test Acc: 0.7632\n",
            "Epoch: 129, Train Acc: 0.7733, Test Acc: 0.7632\n",
            "Epoch: 130, Train Acc: 0.7733, Test Acc: 0.7632\n",
            "Epoch: 131, Train Acc: 0.7667, Test Acc: 0.7632\n",
            "Epoch: 132, Train Acc: 0.7800, Test Acc: 0.7895\n",
            "Epoch: 133, Train Acc: 0.7733, Test Acc: 0.7632\n",
            "Epoch: 134, Train Acc: 0.7667, Test Acc: 0.7632\n",
            "Epoch: 135, Train Acc: 0.8067, Test Acc: 0.7368\n",
            "Epoch: 136, Train Acc: 0.7800, Test Acc: 0.7632\n",
            "Epoch: 137, Train Acc: 0.7733, Test Acc: 0.7632\n",
            "Epoch: 138, Train Acc: 0.8133, Test Acc: 0.7105\n",
            "Epoch: 139, Train Acc: 0.7867, Test Acc: 0.7632\n",
            "Epoch: 140, Train Acc: 0.7800, Test Acc: 0.7895\n",
            "Epoch: 141, Train Acc: 0.8000, Test Acc: 0.6579\n",
            "Epoch: 142, Train Acc: 0.7733, Test Acc: 0.7632\n",
            "Epoch: 143, Train Acc: 0.7933, Test Acc: 0.7632\n",
            "Epoch: 144, Train Acc: 0.7867, Test Acc: 0.7368\n",
            "Epoch: 145, Train Acc: 0.8267, Test Acc: 0.7368\n",
            "Epoch: 146, Train Acc: 0.7667, Test Acc: 0.7895\n",
            "Epoch: 147, Train Acc: 0.7800, Test Acc: 0.7105\n",
            "Epoch: 148, Train Acc: 0.7933, Test Acc: 0.7895\n",
            "Epoch: 149, Train Acc: 0.8200, Test Acc: 0.7105\n",
            "Epoch: 150, Train Acc: 0.7800, Test Acc: 0.7895\n",
            "Epoch: 151, Train Acc: 0.7800, Test Acc: 0.7632\n",
            "Epoch: 152, Train Acc: 0.7867, Test Acc: 0.7632\n",
            "Epoch: 153, Train Acc: 0.8067, Test Acc: 0.7368\n",
            "Epoch: 154, Train Acc: 0.8067, Test Acc: 0.7368\n",
            "Epoch: 155, Train Acc: 0.7867, Test Acc: 0.7632\n",
            "Epoch: 156, Train Acc: 0.7800, Test Acc: 0.7105\n",
            "Epoch: 157, Train Acc: 0.8000, Test Acc: 0.7368\n",
            "Epoch: 158, Train Acc: 0.7800, Test Acc: 0.7368\n",
            "Epoch: 159, Train Acc: 0.7867, Test Acc: 0.7632\n",
            "Epoch: 160, Train Acc: 0.7867, Test Acc: 0.7632\n",
            "Epoch: 161, Train Acc: 0.7800, Test Acc: 0.7632\n",
            "Epoch: 162, Train Acc: 0.7867, Test Acc: 0.7632\n",
            "Epoch: 163, Train Acc: 0.7867, Test Acc: 0.7632\n",
            "Epoch: 164, Train Acc: 0.7800, Test Acc: 0.8158\n",
            "Epoch: 165, Train Acc: 0.7800, Test Acc: 0.8158\n",
            "Epoch: 166, Train Acc: 0.7733, Test Acc: 0.7632\n",
            "Epoch: 167, Train Acc: 0.7867, Test Acc: 0.7895\n",
            "Epoch: 168, Train Acc: 0.7867, Test Acc: 0.7895\n",
            "Epoch: 169, Train Acc: 0.8000, Test Acc: 0.7632\n",
            "Epoch: 170, Train Acc: 0.8000, Test Acc: 0.7632\n"
          ]
        }
      ]
    },
    {
      "cell_type": "markdown",
      "source": [
        "Epoch: 170, Train Acc: 0.8000, Test Acc: 0.7632"
      ],
      "metadata": {
        "id": "1zN_J3LPUwvc"
      }
    },
    {
      "cell_type": "markdown",
      "source": [
        "# Model 2 : GraphConv"
      ],
      "metadata": {
        "id": "0GzdRbNeUJ9M"
      }
    },
    {
      "cell_type": "code",
      "source": [
        "from torch_geometric.nn import GraphConv\n",
        "\n",
        "\n",
        "class GNN(torch.nn.Module):\n",
        "    def __init__(self, hidden_channels):\n",
        "        super(GNN, self).__init__()\n",
        "        torch.manual_seed(12345)\n",
        "        self.conv1 = GraphConv(dataset.num_node_features, hidden_channels)  # TODO\n",
        "        self.conv2 = GraphConv(hidden_channels, hidden_channels)  # TODO\n",
        "        self.conv3 = GraphConv(hidden_channels, hidden_channels)  # TODO\n",
        "        self.lin = Linear(hidden_channels, dataset.num_classes)\n",
        "\n",
        "    def forward(self, x, edge_index, batch):\n",
        "        x = self.conv1(x, edge_index)\n",
        "        x = x.relu()\n",
        "        x = self.conv2(x, edge_index)\n",
        "        x = x.relu()\n",
        "        x = self.conv3(x, edge_index)\n",
        "\n",
        "        x = global_mean_pool(x, batch)\n",
        "\n",
        "        x = F.dropout(x, p=0.5, training=self.training)\n",
        "        x = self.lin(x)\n",
        "\n",
        "        return x\n",
        "\n",
        "model = GNN(hidden_channels=64)\n",
        "print(model)"
      ],
      "metadata": {
        "colab": {
          "base_uri": "https://localhost:8080/"
        },
        "id": "dl4lAvCgT9p3",
        "outputId": "d98ca553-7e40-468f-90b8-f14908849186"
      },
      "execution_count": 7,
      "outputs": [
        {
          "output_type": "stream",
          "name": "stdout",
          "text": [
            "GNN(\n",
            "  (conv1): GraphConv(7, 64)\n",
            "  (conv2): GraphConv(64, 64)\n",
            "  (conv3): GraphConv(64, 64)\n",
            "  (lin): Linear(in_features=64, out_features=2, bias=True)\n",
            ")\n"
          ]
        }
      ]
    },
    {
      "cell_type": "code",
      "source": [
        "from IPython.display import Javascript\n",
        "display(Javascript('''google.colab.output.setIframeHeight(0, true, {maxHeight: 300})'''))\n",
        "\n",
        "model = GNN(hidden_channels=64)\n",
        "print(model)\n",
        "optimizer = torch.optim.Adam(model.parameters(), lr=0.01)\n",
        "\n",
        "for epoch in range(1, 201):\n",
        "    train()\n",
        "    train_acc = test(train_loader)\n",
        "    test_acc = test(test_loader)\n",
        "    print(f'Epoch: {epoch:03d}, Train Acc: {train_acc:.4f}, Test Acc: {test_acc:.4f}')"
      ],
      "metadata": {
        "colab": {
          "base_uri": "https://localhost:8080/",
          "height": 300
        },
        "id": "utVUc2bTUulD",
        "outputId": "730417ec-0acd-49b6-85aa-be2ef8fdd4af"
      },
      "execution_count": 8,
      "outputs": [
        {
          "output_type": "display_data",
          "data": {
            "text/plain": [
              "<IPython.core.display.Javascript object>"
            ],
            "application/javascript": [
              "google.colab.output.setIframeHeight(0, true, {maxHeight: 300})"
            ]
          },
          "metadata": {}
        },
        {
          "output_type": "stream",
          "name": "stdout",
          "text": [
            "GNN(\n",
            "  (conv1): GraphConv(7, 64)\n",
            "  (conv2): GraphConv(64, 64)\n",
            "  (conv3): GraphConv(64, 64)\n",
            "  (lin): Linear(in_features=64, out_features=2, bias=True)\n",
            ")\n",
            "Epoch: 001, Train Acc: 0.7333, Test Acc: 0.7895\n",
            "Epoch: 002, Train Acc: 0.6467, Test Acc: 0.7368\n",
            "Epoch: 003, Train Acc: 0.6467, Test Acc: 0.7368\n",
            "Epoch: 004, Train Acc: 0.6467, Test Acc: 0.7368\n",
            "Epoch: 005, Train Acc: 0.6467, Test Acc: 0.7368\n",
            "Epoch: 006, Train Acc: 0.6533, Test Acc: 0.7368\n",
            "Epoch: 007, Train Acc: 0.7333, Test Acc: 0.8158\n",
            "Epoch: 008, Train Acc: 0.7267, Test Acc: 0.8158\n",
            "Epoch: 009, Train Acc: 0.7867, Test Acc: 0.8421\n",
            "Epoch: 010, Train Acc: 0.7733, Test Acc: 0.8158\n",
            "Epoch: 011, Train Acc: 0.7733, Test Acc: 0.7895\n",
            "Epoch: 012, Train Acc: 0.7933, Test Acc: 0.8421\n",
            "Epoch: 013, Train Acc: 0.7733, Test Acc: 0.8421\n",
            "Epoch: 014, Train Acc: 0.7733, Test Acc: 0.7895\n",
            "Epoch: 015, Train Acc: 0.7933, Test Acc: 0.8421\n",
            "Epoch: 016, Train Acc: 0.7667, Test Acc: 0.7632\n",
            "Epoch: 017, Train Acc: 0.7933, Test Acc: 0.8421\n",
            "Epoch: 018, Train Acc: 0.7867, Test Acc: 0.7895\n",
            "Epoch: 019, Train Acc: 0.7867, Test Acc: 0.7895\n",
            "Epoch: 020, Train Acc: 0.8133, Test Acc: 0.8421\n",
            "Epoch: 021, Train Acc: 0.8000, Test Acc: 0.7632\n",
            "Epoch: 022, Train Acc: 0.7933, Test Acc: 0.8421\n",
            "Epoch: 023, Train Acc: 0.8133, Test Acc: 0.8421\n",
            "Epoch: 024, Train Acc: 0.8667, Test Acc: 0.7368\n",
            "Epoch: 025, Train Acc: 0.8467, Test Acc: 0.7632\n",
            "Epoch: 026, Train Acc: 0.8400, Test Acc: 0.7368\n",
            "Epoch: 027, Train Acc: 0.8400, Test Acc: 0.7632\n",
            "Epoch: 028, Train Acc: 0.8133, Test Acc: 0.8421\n",
            "Epoch: 029, Train Acc: 0.9067, Test Acc: 0.7632\n",
            "Epoch: 030, Train Acc: 0.8800, Test Acc: 0.7895\n",
            "Epoch: 031, Train Acc: 0.8600, Test Acc: 0.7632\n",
            "Epoch: 032, Train Acc: 0.9133, Test Acc: 0.7895\n",
            "Epoch: 033, Train Acc: 0.9267, Test Acc: 0.8158\n",
            "Epoch: 034, Train Acc: 0.8933, Test Acc: 0.8158\n",
            "Epoch: 035, Train Acc: 0.9200, Test Acc: 0.8684\n",
            "Epoch: 036, Train Acc: 0.9000, Test Acc: 0.7368\n",
            "Epoch: 037, Train Acc: 0.9267, Test Acc: 0.8684\n",
            "Epoch: 038, Train Acc: 0.9400, Test Acc: 0.8684\n",
            "Epoch: 039, Train Acc: 0.9133, Test Acc: 0.7632\n",
            "Epoch: 040, Train Acc: 0.9267, Test Acc: 0.8158\n",
            "Epoch: 041, Train Acc: 0.9133, Test Acc: 0.7368\n",
            "Epoch: 042, Train Acc: 0.9067, Test Acc: 0.8421\n",
            "Epoch: 043, Train Acc: 0.9133, Test Acc: 0.8421\n",
            "Epoch: 044, Train Acc: 0.9267, Test Acc: 0.8684\n",
            "Epoch: 045, Train Acc: 0.9067, Test Acc: 0.8158\n",
            "Epoch: 046, Train Acc: 0.9333, Test Acc: 0.8158\n",
            "Epoch: 047, Train Acc: 0.9200, Test Acc: 0.8158\n",
            "Epoch: 048, Train Acc: 0.9333, Test Acc: 0.8421\n",
            "Epoch: 049, Train Acc: 0.9333, Test Acc: 0.8684\n",
            "Epoch: 050, Train Acc: 0.9333, Test Acc: 0.8158\n",
            "Epoch: 051, Train Acc: 0.9333, Test Acc: 0.8158\n",
            "Epoch: 052, Train Acc: 0.9333, Test Acc: 0.8421\n",
            "Epoch: 053, Train Acc: 0.9333, Test Acc: 0.8421\n",
            "Epoch: 054, Train Acc: 0.9267, Test Acc: 0.8158\n",
            "Epoch: 055, Train Acc: 0.9400, Test Acc: 0.8158\n",
            "Epoch: 056, Train Acc: 0.9333, Test Acc: 0.8421\n",
            "Epoch: 057, Train Acc: 0.9267, Test Acc: 0.8158\n",
            "Epoch: 058, Train Acc: 0.9333, Test Acc: 0.8158\n",
            "Epoch: 059, Train Acc: 0.9333, Test Acc: 0.8158\n",
            "Epoch: 060, Train Acc: 0.9333, Test Acc: 0.8158\n",
            "Epoch: 061, Train Acc: 0.9400, Test Acc: 0.8158\n",
            "Epoch: 062, Train Acc: 0.9333, Test Acc: 0.8158\n",
            "Epoch: 063, Train Acc: 0.9267, Test Acc: 0.8684\n",
            "Epoch: 064, Train Acc: 0.9333, Test Acc: 0.8421\n",
            "Epoch: 065, Train Acc: 0.9400, Test Acc: 0.8158\n",
            "Epoch: 066, Train Acc: 0.9333, Test Acc: 0.8158\n",
            "Epoch: 067, Train Acc: 0.9333, Test Acc: 0.8158\n",
            "Epoch: 068, Train Acc: 0.9333, Test Acc: 0.8158\n",
            "Epoch: 069, Train Acc: 0.9400, Test Acc: 0.8158\n",
            "Epoch: 070, Train Acc: 0.9133, Test Acc: 0.8158\n",
            "Epoch: 071, Train Acc: 0.9467, Test Acc: 0.8421\n",
            "Epoch: 072, Train Acc: 0.9400, Test Acc: 0.8421\n",
            "Epoch: 073, Train Acc: 0.9333, Test Acc: 0.8158\n",
            "Epoch: 074, Train Acc: 0.9333, Test Acc: 0.8158\n",
            "Epoch: 075, Train Acc: 0.9333, Test Acc: 0.8158\n",
            "Epoch: 076, Train Acc: 0.9400, Test Acc: 0.8158\n",
            "Epoch: 077, Train Acc: 0.9467, Test Acc: 0.8158\n",
            "Epoch: 078, Train Acc: 0.9333, Test Acc: 0.8158\n",
            "Epoch: 079, Train Acc: 0.9333, Test Acc: 0.8158\n",
            "Epoch: 080, Train Acc: 0.9267, Test Acc: 0.8158\n",
            "Epoch: 081, Train Acc: 0.9333, Test Acc: 0.8158\n",
            "Epoch: 082, Train Acc: 0.9400, Test Acc: 0.8947\n",
            "Epoch: 083, Train Acc: 0.9400, Test Acc: 0.8158\n",
            "Epoch: 084, Train Acc: 0.9400, Test Acc: 0.8158\n",
            "Epoch: 085, Train Acc: 0.9333, Test Acc: 0.8947\n",
            "Epoch: 086, Train Acc: 0.9400, Test Acc: 0.8158\n",
            "Epoch: 087, Train Acc: 0.9200, Test Acc: 0.8158\n",
            "Epoch: 088, Train Acc: 0.9400, Test Acc: 0.8158\n",
            "Epoch: 089, Train Acc: 0.9333, Test Acc: 0.8158\n",
            "Epoch: 090, Train Acc: 0.9333, Test Acc: 0.8158\n",
            "Epoch: 091, Train Acc: 0.9267, Test Acc: 0.8158\n",
            "Epoch: 092, Train Acc: 0.9267, Test Acc: 0.8421\n",
            "Epoch: 093, Train Acc: 0.9267, Test Acc: 0.8158\n",
            "Epoch: 094, Train Acc: 0.9333, Test Acc: 0.8158\n",
            "Epoch: 095, Train Acc: 0.9333, Test Acc: 0.8158\n",
            "Epoch: 096, Train Acc: 0.9400, Test Acc: 0.8158\n",
            "Epoch: 097, Train Acc: 0.9400, Test Acc: 0.8158\n",
            "Epoch: 098, Train Acc: 0.9400, Test Acc: 0.8158\n",
            "Epoch: 099, Train Acc: 0.9333, Test Acc: 0.8158\n",
            "Epoch: 100, Train Acc: 0.9333, Test Acc: 0.8158\n",
            "Epoch: 101, Train Acc: 0.9400, Test Acc: 0.8684\n",
            "Epoch: 102, Train Acc: 0.9333, Test Acc: 0.8158\n",
            "Epoch: 103, Train Acc: 0.9400, Test Acc: 0.8158\n",
            "Epoch: 104, Train Acc: 0.9267, Test Acc: 0.8684\n",
            "Epoch: 105, Train Acc: 0.9267, Test Acc: 0.7895\n",
            "Epoch: 106, Train Acc: 0.8333, Test Acc: 0.7632\n",
            "Epoch: 107, Train Acc: 0.9267, Test Acc: 0.8684\n",
            "Epoch: 108, Train Acc: 0.8800, Test Acc: 0.7895\n",
            "Epoch: 109, Train Acc: 0.8867, Test Acc: 0.8158\n",
            "Epoch: 110, Train Acc: 0.9133, Test Acc: 0.8684\n",
            "Epoch: 111, Train Acc: 0.9400, Test Acc: 0.8158\n",
            "Epoch: 112, Train Acc: 0.9267, Test Acc: 0.7895\n",
            "Epoch: 113, Train Acc: 0.9133, Test Acc: 0.8421\n",
            "Epoch: 114, Train Acc: 0.9400, Test Acc: 0.8421\n",
            "Epoch: 115, Train Acc: 0.9333, Test Acc: 0.7632\n",
            "Epoch: 116, Train Acc: 0.9267, Test Acc: 0.7895\n",
            "Epoch: 117, Train Acc: 0.9400, Test Acc: 0.8158\n",
            "Epoch: 118, Train Acc: 0.9200, Test Acc: 0.8158\n",
            "Epoch: 119, Train Acc: 0.9467, Test Acc: 0.8158\n",
            "Epoch: 120, Train Acc: 0.9267, Test Acc: 0.8158\n",
            "Epoch: 121, Train Acc: 0.9467, Test Acc: 0.8421\n",
            "Epoch: 122, Train Acc: 0.9467, Test Acc: 0.8421\n",
            "Epoch: 123, Train Acc: 0.9400, Test Acc: 0.8158\n",
            "Epoch: 124, Train Acc: 0.9467, Test Acc: 0.7895\n",
            "Epoch: 125, Train Acc: 0.9400, Test Acc: 0.8158\n",
            "Epoch: 126, Train Acc: 0.9400, Test Acc: 0.8158\n",
            "Epoch: 127, Train Acc: 0.9400, Test Acc: 0.8158\n",
            "Epoch: 128, Train Acc: 0.9333, Test Acc: 0.8158\n",
            "Epoch: 129, Train Acc: 0.9467, Test Acc: 0.8158\n",
            "Epoch: 130, Train Acc: 0.9400, Test Acc: 0.8158\n",
            "Epoch: 131, Train Acc: 0.9467, Test Acc: 0.8158\n",
            "Epoch: 132, Train Acc: 0.9333, Test Acc: 0.8158\n",
            "Epoch: 133, Train Acc: 0.9400, Test Acc: 0.8158\n",
            "Epoch: 134, Train Acc: 0.9400, Test Acc: 0.8158\n",
            "Epoch: 135, Train Acc: 0.9400, Test Acc: 0.8158\n",
            "Epoch: 136, Train Acc: 0.9333, Test Acc: 0.7895\n",
            "Epoch: 137, Train Acc: 0.9400, Test Acc: 0.7895\n",
            "Epoch: 138, Train Acc: 0.9400, Test Acc: 0.8158\n",
            "Epoch: 139, Train Acc: 0.9400, Test Acc: 0.8158\n",
            "Epoch: 140, Train Acc: 0.9400, Test Acc: 0.8158\n",
            "Epoch: 141, Train Acc: 0.9333, Test Acc: 0.8158\n",
            "Epoch: 142, Train Acc: 0.9267, Test Acc: 0.8421\n",
            "Epoch: 143, Train Acc: 0.9333, Test Acc: 0.8158\n",
            "Epoch: 144, Train Acc: 0.9400, Test Acc: 0.8158\n",
            "Epoch: 145, Train Acc: 0.9333, Test Acc: 0.8158\n",
            "Epoch: 146, Train Acc: 0.9400, Test Acc: 0.8158\n",
            "Epoch: 147, Train Acc: 0.9400, Test Acc: 0.8158\n",
            "Epoch: 148, Train Acc: 0.9467, Test Acc: 0.8158\n",
            "Epoch: 149, Train Acc: 0.9467, Test Acc: 0.8158\n",
            "Epoch: 150, Train Acc: 0.9400, Test Acc: 0.8158\n",
            "Epoch: 151, Train Acc: 0.9333, Test Acc: 0.8421\n",
            "Epoch: 152, Train Acc: 0.9400, Test Acc: 0.8158\n",
            "Epoch: 153, Train Acc: 0.9467, Test Acc: 0.8158\n",
            "Epoch: 154, Train Acc: 0.9400, Test Acc: 0.8158\n",
            "Epoch: 155, Train Acc: 0.9333, Test Acc: 0.7895\n",
            "Epoch: 156, Train Acc: 0.9400, Test Acc: 0.8158\n",
            "Epoch: 157, Train Acc: 0.9400, Test Acc: 0.8158\n",
            "Epoch: 158, Train Acc: 0.9467, Test Acc: 0.8158\n",
            "Epoch: 159, Train Acc: 0.9400, Test Acc: 0.8158\n",
            "Epoch: 160, Train Acc: 0.9333, Test Acc: 0.8158\n",
            "Epoch: 161, Train Acc: 0.9400, Test Acc: 0.8158\n",
            "Epoch: 162, Train Acc: 0.9333, Test Acc: 0.8158\n",
            "Epoch: 163, Train Acc: 0.9400, Test Acc: 0.8158\n",
            "Epoch: 164, Train Acc: 0.9400, Test Acc: 0.8158\n",
            "Epoch: 165, Train Acc: 0.9333, Test Acc: 0.8158\n",
            "Epoch: 166, Train Acc: 0.9333, Test Acc: 0.8158\n",
            "Epoch: 167, Train Acc: 0.9333, Test Acc: 0.8158\n",
            "Epoch: 168, Train Acc: 0.9467, Test Acc: 0.8158\n",
            "Epoch: 169, Train Acc: 0.9400, Test Acc: 0.8158\n",
            "Epoch: 170, Train Acc: 0.9333, Test Acc: 0.8158\n",
            "Epoch: 171, Train Acc: 0.9333, Test Acc: 0.8158\n",
            "Epoch: 172, Train Acc: 0.9267, Test Acc: 0.8158\n",
            "Epoch: 173, Train Acc: 0.9400, Test Acc: 0.8158\n",
            "Epoch: 174, Train Acc: 0.9400, Test Acc: 0.8158\n",
            "Epoch: 175, Train Acc: 0.9400, Test Acc: 0.8158\n",
            "Epoch: 176, Train Acc: 0.9400, Test Acc: 0.8158\n",
            "Epoch: 177, Train Acc: 0.9333, Test Acc: 0.8158\n",
            "Epoch: 178, Train Acc: 0.9333, Test Acc: 0.8158\n",
            "Epoch: 179, Train Acc: 0.9400, Test Acc: 0.8158\n",
            "Epoch: 180, Train Acc: 0.9400, Test Acc: 0.8158\n",
            "Epoch: 181, Train Acc: 0.9267, Test Acc: 0.8158\n",
            "Epoch: 182, Train Acc: 0.9333, Test Acc: 0.8158\n",
            "Epoch: 183, Train Acc: 0.9333, Test Acc: 0.8158\n",
            "Epoch: 184, Train Acc: 0.9333, Test Acc: 0.8158\n",
            "Epoch: 185, Train Acc: 0.9400, Test Acc: 0.8158\n",
            "Epoch: 186, Train Acc: 0.9400, Test Acc: 0.8158\n",
            "Epoch: 187, Train Acc: 0.9333, Test Acc: 0.8421\n",
            "Epoch: 188, Train Acc: 0.9333, Test Acc: 0.8158\n",
            "Epoch: 189, Train Acc: 0.8600, Test Acc: 0.7368\n",
            "Epoch: 190, Train Acc: 0.9333, Test Acc: 0.7895\n",
            "Epoch: 191, Train Acc: 0.9133, Test Acc: 0.7895\n",
            "Epoch: 192, Train Acc: 0.9333, Test Acc: 0.7895\n",
            "Epoch: 193, Train Acc: 0.9333, Test Acc: 0.7895\n",
            "Epoch: 194, Train Acc: 0.9333, Test Acc: 0.7895\n",
            "Epoch: 195, Train Acc: 0.9333, Test Acc: 0.8158\n",
            "Epoch: 196, Train Acc: 0.9133, Test Acc: 0.7895\n",
            "Epoch: 197, Train Acc: 0.9467, Test Acc: 0.8158\n",
            "Epoch: 198, Train Acc: 0.9467, Test Acc: 0.8158\n",
            "Epoch: 199, Train Acc: 0.9333, Test Acc: 0.7895\n",
            "Epoch: 200, Train Acc: 0.9333, Test Acc: 0.8421\n"
          ]
        }
      ]
    },
    {
      "cell_type": "markdown",
      "source": [
        "Epoch: 200, Train Acc: 0.9333, Test Acc: 0.8421"
      ],
      "metadata": {
        "id": "OSkK7naXVIQ1"
      }
    }
  ]
}